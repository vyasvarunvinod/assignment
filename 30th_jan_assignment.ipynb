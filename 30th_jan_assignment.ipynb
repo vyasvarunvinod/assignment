{
 "cells": [
  {
   "cell_type": "raw",
   "id": "ccd7c1fd-6fe4-489a-83c1-50bbb2589f61",
   "metadata": {},
   "source": [
    "#Q1\n",
    "program to accept percentage from the user and display the grade\n"
   ]
  },
  {
   "cell_type": "code",
   "execution_count": 57,
   "id": "c40ebb9f-79fd-4b1b-8ca0-d538b3a59e0a",
   "metadata": {},
   "outputs": [
    {
     "name": "stdin",
     "output_type": "stream",
     "text": [
      "Enter your Marks:  90\n"
     ]
    },
    {
     "data": {
      "text/plain": [
       "'B'"
      ]
     },
     "execution_count": 57,
     "metadata": {},
     "output_type": "execute_result"
    }
   ],
   "source": [
    "marks = int(input(\"Enter your Marks: \"))\n",
    "grade = \"\"\n",
    "if marks > 90:\n",
    "    grade = \"A\"\n",
    "elif marks > 80  and marks <= 90:\n",
    "    grade = \"B\"\n",
    "elif marks > 60  and marks <= 80:\n",
    "    grade = \"C\"\n",
    "elif marks < 60:\n",
    "    grade = \"D\"\n",
    "else:\n",
    "    print(\"Invalid Input\")\n",
    "    \n",
    "grade"
   ]
  },
  {
   "cell_type": "raw",
   "id": "a1859f24-632b-489d-b3ba-3e262a2014f0",
   "metadata": {},
   "source": [
    "#Q2 Cost price of bike and display the Road tax to be paid according to the following criteria"
   ]
  },
  {
   "cell_type": "code",
   "execution_count": 13,
   "id": "370ac6b6-18e5-4369-b06f-a512175aa7d4",
   "metadata": {},
   "outputs": [
    {
     "name": "stdin",
     "output_type": "stream",
     "text": [
      "Enter the Cost price of the Bike:  -10\n"
     ]
    },
    {
     "name": "stdout",
     "output_type": "stream",
     "text": [
      "Invalid Input\n"
     ]
    },
    {
     "data": {
      "text/plain": [
       "''"
      ]
     },
     "execution_count": 13,
     "metadata": {},
     "output_type": "execute_result"
    }
   ],
   "source": [
    "price = int(input(\"Enter the Cost price of the Bike: \"))\n",
    "tax = \"\"\n",
    "if price > 100000:\n",
    "    tax = \"15%\"\n",
    "elif price > 50000  and price <= 100000:\n",
    "    tax = \"10%\"\n",
    "elif price < 50000 and price > 0:\n",
    "    tax = \"5%\"\n",
    "else:\n",
    "    print(\"Invalid Input\")\n",
    "tax"
   ]
  },
  {
   "cell_type": "raw",
   "id": "83938631-7a99-4658-8dac-42b44d91f19a",
   "metadata": {},
   "source": [
    "#Q3 Accept any city from the user and display monuments of that city"
   ]
  },
  {
   "cell_type": "code",
   "execution_count": 16,
   "id": "3b3dd580-6593-49fb-ae60-8b1e2c80e32c",
   "metadata": {},
   "outputs": [
    {
     "name": "stdin",
     "output_type": "stream",
     "text": [
      "Enter the name of indian city you like :  nagpur\n"
     ]
    },
    {
     "name": "stdout",
     "output_type": "stream",
     "text": [
      "Sorry Try Again\n"
     ]
    }
   ],
   "source": [
    "city = input(\"Enter the name of indian city you like : \")\n",
    "\n",
    "if city.lower() == \"delhi\":\n",
    "    print(\"Red Fort\")\n",
    "elif city.lower() == \"agra\":\n",
    "    print(\"Taj Mahal\")\n",
    "elif city.lower() == \"jaipur\":\n",
    "    print(\"Jal Mahal\")\n",
    "else:\n",
    "    print(\"Sorry Try Again\")"
   ]
  },
  {
   "cell_type": "raw",
   "id": "a4fd6a94-2533-42e8-9d19-1a308e64580a",
   "metadata": {},
   "source": [
    "#Q4 Check How many times a number can be divided by 3 before it is less than or equal to 10"
   ]
  },
  {
   "cell_type": "code",
   "execution_count": 53,
   "id": "8e4e8191-ab95-4874-8f00-9c62e383ba10",
   "metadata": {},
   "outputs": [
    {
     "name": "stdin",
     "output_type": "stream",
     "text": [
      "Enter the number you want to test:  81\n"
     ]
    },
    {
     "data": {
      "text/plain": [
       "2"
      ]
     },
     "execution_count": 53,
     "metadata": {},
     "output_type": "execute_result"
    }
   ],
   "source": [
    "num = int(input(\"Enter the number you want to test: \"))\n",
    "count = 0\n",
    "if num >=10:\n",
    "    while num >=10:\n",
    "        num = num/3\n",
    "        count +=1\n",
    "        continue\n",
    "else:\n",
    "    print(\"add another number\")\n",
    "count"
   ]
  },
  {
   "cell_type": "raw",
   "id": "d7687ca0-ad79-4a35-b56f-5c4aeda55a7a",
   "metadata": {},
   "source": [
    "#Q5 Why and when to use the while Loop"
   ]
  },
  {
   "cell_type": "markdown",
   "id": "59570e8d-0076-484b-a4c5-c51fe82f4238",
   "metadata": {},
   "source": [
    "- We use While loops in case when need a condition to be meet and to be strictly follow.\n",
    "\n",
    "- e.g. in above example, num should always be greater than 10. we used \"while num >=10:\"\n",
    "\n",
    "- this clearly made a distinction about a num should always be greater than 10 is going to be in the loop.\n",
    "\n",
    "- hence the loop flows not in a specified interval, but flows as per the given condition"
   ]
  },
  {
   "cell_type": "raw",
   "id": "361b92a5-329f-403a-b742-ded986209437",
   "metadata": {},
   "source": [
    "#Q6 Nested While Loopss to print 3 different patterns"
   ]
  },
  {
   "cell_type": "code",
   "execution_count": 20,
   "id": "5eda2e1d-a4e5-40f2-b243-244e02470cd5",
   "metadata": {},
   "outputs": [
    {
     "name": "stdout",
     "output_type": "stream",
     "text": [
      "* \n",
      "* * \n",
      "* * * \n",
      "* * * * \n",
      "* * * * * \n"
     ]
    }
   ],
   "source": [
    "#pattern1\n",
    "i = 1\n",
    "while i <=5:\n",
    "    j = 1\n",
    "    while j <= i:\n",
    "        print(\"*\", end =\" \")\n",
    "        j+=1\n",
    "    print(\"\")\n",
    "    i+=1"
   ]
  },
  {
   "cell_type": "code",
   "execution_count": 40,
   "id": "ba267d94-3b60-427d-b05f-7782f13202dd",
   "metadata": {},
   "outputs": [
    {
     "name": "stdout",
     "output_type": "stream",
     "text": [
      "1 \n",
      "1 2 \n",
      "1 2 3 \n",
      "1 2 3 4 \n",
      "1 2 3 4 5 \n"
     ]
    }
   ],
   "source": [
    "#pattern 2\n",
    "i = 1\n",
    "while i <=5:\n",
    "    j = 1\n",
    "    while j <= i:\n",
    "        print(j, end =\" \")\n",
    "        j+=1\n",
    "    print(\"\")\n",
    "    i+=1"
   ]
  },
  {
   "cell_type": "code",
   "execution_count": 41,
   "id": "99bea1d3-1fca-4fce-932c-760070e2cb59",
   "metadata": {},
   "outputs": [
    {
     "name": "stdout",
     "output_type": "stream",
     "text": [
      "* * * * * * \n",
      "* * * * * \n",
      "* * * * \n",
      "* * * \n",
      "* * \n",
      "* \n"
     ]
    }
   ],
   "source": [
    "#pattern 3\n",
    "i = 5\n",
    "while i >= 0:\n",
    "    j = 0\n",
    "    while j <= i:\n",
    "        print(\"*\", end = \" \")\n",
    "        j+=1\n",
    "    print(\"\")\n",
    "    i-=1"
   ]
  },
  {
   "cell_type": "code",
   "execution_count": 56,
   "id": "2e218daf-2874-4374-aca2-4566eeccab39",
   "metadata": {},
   "outputs": [
    {
     "name": "stdout",
     "output_type": "stream",
     "text": [
      "10\n",
      "9\n",
      "8\n",
      "7\n",
      "6\n",
      "5\n",
      "4\n",
      "3\n",
      "2\n",
      "1\n"
     ]
    }
   ],
   "source": [
    "last = 10\n",
    "first = 0\n",
    "while last > first:\n",
    "    print(last)\n",
    "    last -= 1"
   ]
  },
  {
   "cell_type": "code",
   "execution_count": null,
   "id": "85265884-0994-4de8-be9a-4f8e58e36a67",
   "metadata": {},
   "outputs": [],
   "source": []
  }
 ],
 "metadata": {
  "kernelspec": {
   "display_name": "Python 3 (ipykernel)",
   "language": "python",
   "name": "python3"
  },
  "language_info": {
   "codemirror_mode": {
    "name": "ipython",
    "version": 3
   },
   "file_extension": ".py",
   "mimetype": "text/x-python",
   "name": "python",
   "nbconvert_exporter": "python",
   "pygments_lexer": "ipython3",
   "version": "3.10.8"
  }
 },
 "nbformat": 4,
 "nbformat_minor": 5
}
