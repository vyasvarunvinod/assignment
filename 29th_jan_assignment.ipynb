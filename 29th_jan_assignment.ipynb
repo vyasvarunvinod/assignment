{
 "cells": [
  {
   "cell_type": "markdown",
   "id": "128d4f1d-d7a6-4a0b-91f9-af0f17f0dd1e",
   "metadata": {},
   "source": [
    "Q1 :- Guido van Rossum"
   ]
  },
  {
   "cell_type": "markdown",
   "id": "2f8cdf4a-2a73-4535-a180-9de73b0b8130",
   "metadata": {},
   "source": [
    "Q2 :- Python is an interpreted programming language, supporting object-oriented, structured, and functional programming."
   ]
  },
  {
   "cell_type": "markdown",
   "id": "ed2cd918-a717-4aa5-b33f-ac492e57495c",
   "metadata": {},
   "source": [
    "Q3 :- Yes, Python is a case-sensitive language, i.e., it treats uppercase and lowercase characters differently. This applies to identifiers too."
   ]
  },
  {
   "cell_type": "markdown",
   "id": "1b1e1470-7893-4394-bf29-7105e0714100",
   "metadata": {},
   "source": [
    "Q4 :- .py"
   ]
  },
  {
   "cell_type": "markdown",
   "id": "0e2bc633-f340-4be0-bd8a-416a99c94627",
   "metadata": {},
   "source": [
    "Q5 :- Python codes are interpreted"
   ]
  },
  {
   "cell_type": "markdown",
   "id": "7438fde0-0d04-4f24-8a77-44d774744114",
   "metadata": {},
   "source": [
    "Q6 :- Classes, Function, Loops, and Conditionals"
   ]
  },
  {
   "cell_type": "code",
   "execution_count": 2,
   "id": "25d128ed-3a59-487c-a754-7592b62b46e8",
   "metadata": {},
   "outputs": [
    {
     "name": "stdout",
     "output_type": "stream",
     "text": [
      "42\n"
     ]
    }
   ],
   "source": [
    "# Classes in Python\n",
    "i = 10\n",
    "def f():\n",
    "    print(i)\n",
    "i = 42\n",
    "f()"
   ]
  },
  {
   "cell_type": "markdown",
   "id": "95774a36-acf4-49da-87f8-29cbdace98cd",
   "metadata": {},
   "source": [
    "Q7 :- \"#\" is used for Single Line Comment"
   ]
  },
  {
   "cell_type": "markdown",
   "id": "0e1fbfd1-fcb4-44cc-a9cb-14109428b39c",
   "metadata": {},
   "source": [
    "Q8 :-"
   ]
  },
  {
   "cell_type": "code",
   "execution_count": 3,
   "id": "e5926864-d294-42b5-8fe2-b19453e8ef93",
   "metadata": {},
   "outputs": [
    {
     "name": "stdout",
     "output_type": "stream",
     "text": [
      "User Current Version:- 3.10.8 | packaged by conda-forge | (main, Nov 22 2022, 08:26:04) [GCC 10.4.0]\n"
     ]
    }
   ],
   "source": [
    "#to find the current version of python\n",
    "import sys\n",
    "\n",
    "print(\"User Current Version:-\", sys.version)"
   ]
  },
  {
   "cell_type": "raw",
   "id": "851b497b-0ceb-4227-b1ef-e595c463f789",
   "metadata": {},
   "source": []
  },
  {
   "cell_type": "markdown",
   "id": "d1f79e47-be07-45a6-8895-fbedd6952156",
   "metadata": {},
   "source": [
    "Q9 :- Lambda Functions"
   ]
  },
  {
   "cell_type": "markdown",
   "id": "466b3d11-167b-4ee5-9147-35229dce7901",
   "metadata": {},
   "source": [
    "Q10 :- len(), range(), list(), set()"
   ]
  },
  {
   "cell_type": "markdown",
   "id": "62d62155-5bed-4d17-a053-0f6c33d7d2fa",
   "metadata": {},
   "source": [
    "Q11 :- \"preferred installer program\" (as per Python.org doccumentation)"
   ]
  },
  {
   "cell_type": "code",
   "execution_count": null,
   "id": "c51659b6-3663-4100-92d4-0b8c9745d36c",
   "metadata": {},
   "outputs": [],
   "source": []
  }
 ],
 "metadata": {
  "kernelspec": {
   "display_name": "Python 3 (ipykernel)",
   "language": "python",
   "name": "python3"
  },
  "language_info": {
   "codemirror_mode": {
    "name": "ipython",
    "version": 3
   },
   "file_extension": ".py",
   "mimetype": "text/x-python",
   "name": "python",
   "nbconvert_exporter": "python",
   "pygments_lexer": "ipython3",
   "version": "3.10.8"
  }
 },
 "nbformat": 4,
 "nbformat_minor": 5
}
