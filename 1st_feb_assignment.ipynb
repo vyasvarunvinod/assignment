{
 "cells": [
  {
   "cell_type": "code",
   "execution_count": 8,
   "id": "686ac256-ab12-4802-874c-14dd71ded305",
   "metadata": {},
   "outputs": [
    {
     "name": "stdout",
     "output_type": "stream",
     "text": [
      "1\n",
      "2\n",
      "3\n",
      "4\n",
      "5\n"
     ]
    }
   ],
   "source": [
    "#Q1\n",
    "\n",
    "#we we have a start & end condition we use for loop\n",
    "l1 = [1,2,3,4,5]\n",
    "for i in l1:\n",
    "    print(i)"
   ]
  },
  {
   "cell_type": "code",
   "execution_count": 9,
   "id": "c8d6a53c-4dab-4ac2-ab77-40b7ca40f8d3",
   "metadata": {},
   "outputs": [
    {
     "name": "stdout",
     "output_type": "stream",
     "text": [
      "0\n",
      "1\n",
      "2\n",
      "3\n",
      "4\n",
      "5\n",
      "6\n",
      "7\n",
      "8\n",
      "9\n",
      "10\n"
     ]
    }
   ],
   "source": [
    "#when we do not have a specified starting & end condition, we use while loop\n",
    "j = 0\n",
    "while (j <11):\n",
    "    print(j)\n",
    "    j+=1"
   ]
  },
  {
   "cell_type": "code",
   "execution_count": 12,
   "id": "224145b5-0822-45cb-9b08-45221de0da49",
   "metadata": {},
   "outputs": [
    {
     "name": "stdout",
     "output_type": "stream",
     "text": [
      "55\n"
     ]
    }
   ],
   "source": [
    "#Q2 - Write a python program to print the sum and product of the first 10 natural numbers using for\n",
    "#and while loop.\n",
    "\n",
    "n = 1\n",
    "res = 0\n",
    "while n <=10:\n",
    "    res += n\n",
    "    n+=1\n",
    "print(res)"
   ]
  },
  {
   "cell_type": "code",
   "execution_count": 4,
   "id": "6730590a-7d1d-4567-bb33-32587472fdd5",
   "metadata": {},
   "outputs": [
    {
     "name": "stdin",
     "output_type": "stream",
     "text": [
      "Enter your units:  310\n"
     ]
    },
    {
     "name": "stdout",
     "output_type": "stream",
     "text": [
      "2250.0\n"
     ]
    }
   ],
   "source": [
    "#Q3\n",
    "\n",
    "#Electric Bill\n",
    "\n",
    "unit = int(input(\"Enter your units: \"))\n",
    "bill = 0\n",
    "\n",
    "if unit <= 100:\n",
    "    bill = unit * 4.5\n",
    "    \n",
    "elif (unit > 100 and unit <= 200):\n",
    "    bill = (100* 4.5) + (((unit-100)) * 6)\n",
    "    \n",
    "elif (unit > 200 and unit <= 300):\n",
    "    bill = (100 * 4.5) + (100 * 6) + ((unit-200) * 10)\n",
    "    \n",
    "elif (unit > 300):\n",
    "    bill = (100 * 4.5) + (100 * 6) + (100 * 10) + ((unit-300) * 20)\n",
    "else:\n",
    "    bill = 0\n",
    "print(bill)"
   ]
  },
  {
   "cell_type": "code",
   "execution_count": 25,
   "id": "39d6ada9-1be6-4b78-af0f-889cacffba09",
   "metadata": {},
   "outputs": [],
   "source": [
    "#Q4 Finding the cubes of 1 to 100 which are divisible by 4 or 5"
   ]
  },
  {
   "cell_type": "code",
   "execution_count": 26,
   "id": "2e764795-18e0-43c7-bbd8-4e4b835422bd",
   "metadata": {},
   "outputs": [],
   "source": [
    "l1 = list(range(0,101))\n",
    "cube = 0\n",
    "out=[]\n",
    "for i in l1:\n",
    "    cube = i*i*i\n",
    "    if cube%4 == 0 or cube%5 == 0:\n",
    "        out.append(cube)\n",
    "    "
   ]
  },
  {
   "cell_type": "code",
   "execution_count": 27,
   "id": "b066c31b-cdf7-4aec-a683-6094fa9583f5",
   "metadata": {},
   "outputs": [],
   "source": [
    "# Q5. Write a program to filter count vowels in the below-given string.\n",
    "#string = \"I want to become a data scientist\""
   ]
  },
  {
   "cell_type": "code",
   "execution_count": 28,
   "id": "23995275-2b2b-4077-a4f9-4a9870741ddd",
   "metadata": {},
   "outputs": [
    {
     "data": {
      "text/plain": [
       "[0,\n",
       " 8,\n",
       " 64,\n",
       " 125,\n",
       " 216,\n",
       " 512,\n",
       " 1000,\n",
       " 1728,\n",
       " 2744,\n",
       " 3375,\n",
       " 4096,\n",
       " 5832,\n",
       " 8000,\n",
       " 10648,\n",
       " 13824,\n",
       " 15625,\n",
       " 17576,\n",
       " 21952,\n",
       " 27000,\n",
       " 32768,\n",
       " 39304,\n",
       " 42875,\n",
       " 46656,\n",
       " 54872,\n",
       " 64000,\n",
       " 74088,\n",
       " 85184,\n",
       " 91125,\n",
       " 97336,\n",
       " 110592,\n",
       " 125000,\n",
       " 140608,\n",
       " 157464,\n",
       " 166375,\n",
       " 175616,\n",
       " 195112,\n",
       " 216000,\n",
       " 238328,\n",
       " 262144,\n",
       " 274625,\n",
       " 287496,\n",
       " 314432,\n",
       " 343000,\n",
       " 373248,\n",
       " 405224,\n",
       " 421875,\n",
       " 438976,\n",
       " 474552,\n",
       " 512000,\n",
       " 551368,\n",
       " 592704,\n",
       " 614125,\n",
       " 636056,\n",
       " 681472,\n",
       " 729000,\n",
       " 778688,\n",
       " 830584,\n",
       " 857375,\n",
       " 884736,\n",
       " 941192,\n",
       " 1000000]"
      ]
     },
     "execution_count": 28,
     "metadata": {},
     "output_type": "execute_result"
    }
   ],
   "source": [
    "out"
   ]
  },
  {
   "cell_type": "code",
   "execution_count": 30,
   "id": "3b6fb84d-41be-469e-bd01-51d28419d87f",
   "metadata": {},
   "outputs": [
    {
     "name": "stdout",
     "output_type": "stream",
     "text": [
      "12\n"
     ]
    }
   ],
   "source": [
    "# Q5 counting the string\n",
    "\n",
    "\n",
    "vowels = ['a', 'e','i', 'o', 'u', 'A', 'E', 'I', 'O', 'U']\n",
    "s = \"I want to become a data scientist\"\n",
    "count = 0\n",
    "for i in s:\n",
    "    if i in vowels:\n",
    "        count +=1\n",
    "print(count)"
   ]
  },
  {
   "cell_type": "code",
   "execution_count": null,
   "id": "cdf290e6-74d0-4575-ac6c-0f0debe275cf",
   "metadata": {},
   "outputs": [],
   "source": []
  }
 ],
 "metadata": {
  "kernelspec": {
   "display_name": "Python 3 (ipykernel)",
   "language": "python",
   "name": "python3"
  },
  "language_info": {
   "codemirror_mode": {
    "name": "ipython",
    "version": 3
   },
   "file_extension": ".py",
   "mimetype": "text/x-python",
   "name": "python",
   "nbconvert_exporter": "python",
   "pygments_lexer": "ipython3",
   "version": "3.10.8"
  }
 },
 "nbformat": 4,
 "nbformat_minor": 5
}
